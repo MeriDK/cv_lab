{
 "cells": [
  {
   "cell_type": "code",
   "execution_count": 34,
   "id": "7be1b3a1-78e8-4375-9a51-a4bf5e17cb68",
   "metadata": {},
   "outputs": [],
   "source": [
    "import torch\n",
    "from torch import nn\n",
    "from torch.utils.data import DataLoader, Dataset\n",
    "from torchvision import datasets\n",
    "from torchvision.transforms import ToTensor\n",
    "from torchvision import transforms\n",
    "import torchvision.models as models\n",
    "import matplotlib.pyplot as plt\n",
    "from tqdm import tqdm\n",
    "import timm\n",
    "import numpy as np\n",
    "import random\n",
    "from torch.utils.data import random_split\n",
    "import torch.nn.functional as F\n",
    "import pickle\n",
    "import matplotlib.pyplot as plt"
   ]
  },
  {
   "cell_type": "code",
   "execution_count": 35,
   "id": "8a77ae0b-35a5-4b20-99c3-81c503e19e3b",
   "metadata": {},
   "outputs": [],
   "source": [
    "class Model(nn.Module):\n",
    "    def __init__(self, in_channels=1, num_classes=10):\n",
    "        super(Model, self).__init__()\n",
    "\n",
    "        # Load a pretrained resnet model from torchvision.models in Pytorch\n",
    "        self.model = timm.create_model('inception_resnet_v2', pretrained=False)\n",
    "\n",
    "        # Change the input layer to take Grayscale image, instead of RGB images. \n",
    "        # Hence in_channels is set as 1 or 3 respectively\n",
    "        # original definition of the first layer \n",
    "        # self.conv1 = Conv2d(3, 32, kernel_size=(3, 3), stride=(2, 2), bias=False)\n",
    "        self.model.conv2d_1a.conv = nn.Conv2d(in_channels, 32, kernel_size=3, stride=2, bias=False)\n",
    "    \n",
    "        # Change the output layer to output 10 classes instead of 1000 classes\n",
    "        num_ftrs = self.model.classif.in_features\n",
    "        self.model.classif = nn.Linear(num_ftrs, num_classes)\n",
    "\n",
    "    def forward(self, x):\n",
    "        return self.model(x)"
   ]
  },
  {
   "cell_type": "code",
   "execution_count": 36,
   "id": "beef4099-e31b-4b43-8517-0ed6485501b3",
   "metadata": {},
   "outputs": [],
   "source": [
    "class SiameseDataset(Dataset):\n",
    "    def __init__(self, dataset):\n",
    "        self.dataset = dataset\n",
    "        \n",
    "    def __getitem__(self, index):\n",
    "        img1, label1 = random.choice(self.dataset)\n",
    "\n",
    "        #We need to approximately 50% of images to be in the same class\n",
    "        should_get_same_class = random.randint(0, 1) \n",
    "        if should_get_same_class:\n",
    "            while True:\n",
    "                #Look untill the same class image is found\n",
    "                img2, label2 = random.choice(self.dataset) \n",
    "                if label1 == label2:\n",
    "                    break\n",
    "        else:\n",
    "            while True:\n",
    "                #Look untill a different class image is found\n",
    "                img2, label2 = random.choice(self.dataset) \n",
    "                if label1 != label2:\n",
    "                    break\n",
    "        \n",
    "        return img1, img2, torch.from_numpy(np.array([int(label1 != label2)], dtype=np.float32))\n",
    "    \n",
    "    def __len__(self):\n",
    "        return len(self.dataset)"
   ]
  },
  {
   "cell_type": "code",
   "execution_count": 37,
   "id": "6685f1bb-e900-4ff3-a28d-58b2848429b6",
   "metadata": {},
   "outputs": [],
   "source": [
    "transform = transforms.Compose([\n",
    "    transforms.Resize(139),    # minimum image size for inception resnet\n",
    "    transforms.ToTensor(),\n",
    "])\n",
    "\n",
    "# Download training data from open datasets.\n",
    "training_data = datasets.FashionMNIST(\n",
    "    root=\"data\",\n",
    "    train=True,\n",
    "    download=True,\n",
    "    transform=transform,\n",
    ")\n",
    "\n",
    "# Download test data from open datasets.\n",
    "test_data = datasets.FashionMNIST(\n",
    "    root=\"data\",\n",
    "    train=False,\n",
    "    download=True,\n",
    "    transform=transform,\n",
    ")\n",
    "\n",
    "train_len = int(0.8 * len(training_data))\n",
    "val_len = len(training_data) - train_len\n",
    "torch.manual_seed(42)\n",
    "train_data, val_data = random_split(training_data, [train_len, val_len])"
   ]
  },
  {
   "cell_type": "code",
   "execution_count": 38,
   "id": "e0b0d958-bda5-4f51-8b83-d1ef02df8d80",
   "metadata": {},
   "outputs": [],
   "source": [
    "train_datas = SiameseDataset(train_data)"
   ]
  },
  {
   "cell_type": "code",
   "execution_count": 39,
   "id": "47a359de-c14b-4cd1-a834-6cde8507ee79",
   "metadata": {},
   "outputs": [
    {
     "data": {
      "text/plain": [
       "(tensor([[[0., 0., 0.,  ..., 0., 0., 0.],\n",
       "          [0., 0., 0.,  ..., 0., 0., 0.],\n",
       "          [0., 0., 0.,  ..., 0., 0., 0.],\n",
       "          ...,\n",
       "          [0., 0., 0.,  ..., 0., 0., 0.],\n",
       "          [0., 0., 0.,  ..., 0., 0., 0.],\n",
       "          [0., 0., 0.,  ..., 0., 0., 0.]]]),\n",
       " tensor([[[0., 0., 0.,  ..., 0., 0., 0.],\n",
       "          [0., 0., 0.,  ..., 0., 0., 0.],\n",
       "          [0., 0., 0.,  ..., 0., 0., 0.],\n",
       "          ...,\n",
       "          [0., 0., 0.,  ..., 0., 0., 0.],\n",
       "          [0., 0., 0.,  ..., 0., 0., 0.],\n",
       "          [0., 0., 0.,  ..., 0., 0., 0.]]]),\n",
       " tensor([1.]))"
      ]
     },
     "execution_count": 39,
     "metadata": {},
     "output_type": "execute_result"
    }
   ],
   "source": [
    "train_datas[0]"
   ]
  },
  {
   "cell_type": "code",
   "execution_count": 3,
   "id": "dab93361-567f-4919-adcd-965ca69bd212",
   "metadata": {},
   "outputs": [],
   "source": [
    "test_data = SiameseDataset('test.pickle')"
   ]
  },
  {
   "cell_type": "code",
   "execution_count": 30,
   "id": "b8c4fe60-9f7c-4a30-ac42-f74fb31ed507",
   "metadata": {},
   "outputs": [
    {
     "data": {
      "text/plain": [
       "(tensor([0.3820, 0.1963, 0.2421,  ..., 0.3875, 0.6740, 0.1132]),\n",
       " tensor([0.8530, 0.1196, 0.4697,  ..., 0.1243, 0.0000, 0.0381]),\n",
       " tensor([0.]))"
      ]
     },
     "execution_count": 30,
     "metadata": {},
     "output_type": "execute_result"
    }
   ],
   "source": [
    "test_data[0]"
   ]
  },
  {
   "cell_type": "code",
   "execution_count": 44,
   "id": "a5a15081-517b-4722-9f66-a44212890e8d",
   "metadata": {},
   "outputs": [
    {
     "ename": "KeyboardInterrupt",
     "evalue": "",
     "output_type": "error",
     "traceback": [
      "\u001b[1;31m---------------------------------------------------------------------------\u001b[0m",
      "\u001b[1;31mKeyboardInterrupt\u001b[0m                         Traceback (most recent call last)",
      "\u001b[1;32m~\\AppData\\Local\\Temp/ipykernel_18632/1551602768.py\u001b[0m in \u001b[0;36m<module>\u001b[1;34m\u001b[0m\n\u001b[1;32m----> 1\u001b[1;33m \u001b[0mtrain_data\u001b[0m \u001b[1;33m=\u001b[0m \u001b[0mSiameseDataset\u001b[0m\u001b[1;33m(\u001b[0m\u001b[1;34m'train.pickle'\u001b[0m\u001b[1;33m)\u001b[0m\u001b[1;33m\u001b[0m\u001b[1;33m\u001b[0m\u001b[0m\n\u001b[0m\u001b[0;32m      2\u001b[0m \u001b[0mval_data\u001b[0m \u001b[1;33m=\u001b[0m \u001b[0mSiameseDataset\u001b[0m\u001b[1;33m(\u001b[0m\u001b[1;34m'val.pickle'\u001b[0m\u001b[1;33m)\u001b[0m\u001b[1;33m\u001b[0m\u001b[1;33m\u001b[0m\u001b[0m\n",
      "\u001b[1;32m~\\AppData\\Local\\Temp/ipykernel_18632/3315665654.py\u001b[0m in \u001b[0;36m__init__\u001b[1;34m(self, path)\u001b[0m\n\u001b[0;32m      2\u001b[0m     \u001b[1;32mdef\u001b[0m \u001b[0m__init__\u001b[0m\u001b[1;33m(\u001b[0m\u001b[0mself\u001b[0m\u001b[1;33m,\u001b[0m \u001b[0mpath\u001b[0m\u001b[1;33m)\u001b[0m\u001b[1;33m:\u001b[0m\u001b[1;33m\u001b[0m\u001b[1;33m\u001b[0m\u001b[0m\n\u001b[0;32m      3\u001b[0m         \u001b[1;32mwith\u001b[0m \u001b[0mopen\u001b[0m\u001b[1;33m(\u001b[0m\u001b[0mpath\u001b[0m\u001b[1;33m,\u001b[0m \u001b[1;34m'rb'\u001b[0m\u001b[1;33m)\u001b[0m \u001b[1;32mas\u001b[0m \u001b[0mf\u001b[0m\u001b[1;33m:\u001b[0m\u001b[1;33m\u001b[0m\u001b[1;33m\u001b[0m\u001b[0m\n\u001b[1;32m----> 4\u001b[1;33m             \u001b[0mself\u001b[0m\u001b[1;33m.\u001b[0m\u001b[0mdataset\u001b[0m \u001b[1;33m=\u001b[0m \u001b[0mpickle\u001b[0m\u001b[1;33m.\u001b[0m\u001b[0mload\u001b[0m\u001b[1;33m(\u001b[0m\u001b[0mf\u001b[0m\u001b[1;33m)\u001b[0m\u001b[1;33m\u001b[0m\u001b[1;33m\u001b[0m\u001b[0m\n\u001b[0m\u001b[0;32m      5\u001b[0m \u001b[1;33m\u001b[0m\u001b[0m\n\u001b[0;32m      6\u001b[0m     \u001b[1;32mdef\u001b[0m \u001b[0m__getitem__\u001b[0m\u001b[1;33m(\u001b[0m\u001b[0mself\u001b[0m\u001b[1;33m,\u001b[0m \u001b[0mindex\u001b[0m\u001b[1;33m)\u001b[0m\u001b[1;33m:\u001b[0m\u001b[1;33m\u001b[0m\u001b[1;33m\u001b[0m\u001b[0m\n",
      "\u001b[1;31mKeyboardInterrupt\u001b[0m: "
     ]
    }
   ],
   "source": [
    "train_data = SiameseDataset('train.pickle')\n",
    "val_data = SiameseDataset('val.pickle')"
   ]
  },
  {
   "cell_type": "code",
   "execution_count": 31,
   "id": "15cb5766-bd30-4df0-84f1-9ce9c3b6e077",
   "metadata": {},
   "outputs": [],
   "source": [
    "class ContrastiveLoss(torch.nn.Module):\n",
    "    \"\"\"\n",
    "    Contrastive loss function\n",
    "    \"\"\"\n",
    "\n",
    "    def __init__(self, margin=2.0):\n",
    "        super(ContrastiveLoss, self).__init__()\n",
    "        self.margin = margin\n",
    "\n",
    "    def forward(self, output1, output2, label):\n",
    "        euclidean_distance = F.pairwise_distance(output1, output2)\n",
    "        loss_contrastive = torch.mean((1 - label) * torch.pow(euclidean_distance, 2) + \n",
    "                                      label * torch.pow(torch.clamp(self.margin - euclidean_distance, min=0.0), 2))\n",
    "\n",
    "        return loss_contrastive"
   ]
  },
  {
   "cell_type": "code",
   "execution_count": 40,
   "id": "cd9577c1-f189-4362-9012-832009f677b8",
   "metadata": {},
   "outputs": [],
   "source": [
    "#create the Siamese Neural Network\n",
    "class SiameseNetwork(nn.Module):\n",
    "\n",
    "    def __init__(self):\n",
    "        super(SiameseNetwork, self).__init__()\n",
    "\n",
    "        # Setting up the Fully Connected Layers\n",
    "        self.fc = nn.Sequential(\n",
    "            nn.Linear(1536, 512),\n",
    "            nn.BatchNorm1d(512),\n",
    "            nn.ReLU(),\n",
    "            nn.Linear(512, 64),\n",
    "            nn.BatchNorm1d(64),\n",
    "            nn.ReLU(),\n",
    "            nn.Linear(64, 1),\n",
    "            nn.Sigmoid(),\n",
    "        )\n",
    "    \n",
    "    def forward(self, input1, input2):\n",
    "        combined_features = input1 * input2\n",
    "        \n",
    "        return self.fc(combined_features)"
   ]
  },
  {
   "cell_type": "code",
   "execution_count": 133,
   "id": "db63e55f-ba93-466b-9592-c03166dca99a",
   "metadata": {},
   "outputs": [],
   "source": [
    "model = SiameseNetwork()"
   ]
  },
  {
   "cell_type": "code",
   "execution_count": 134,
   "id": "28bb0159-03a5-43c4-89e1-fb54a04d7d5d",
   "metadata": {},
   "outputs": [
    {
     "data": {
      "text/plain": [
       "tensor([[0.3439],\n",
       "        [0.3962],\n",
       "        [0.5869],\n",
       "        [0.4939],\n",
       "        [0.5607]], grad_fn=<SigmoidBackward0>)"
      ]
     },
     "execution_count": 134,
     "metadata": {},
     "output_type": "execute_result"
    }
   ],
   "source": [
    "model(torch.randn((5, 1536)), torch.randn((5, 1536)))"
   ]
  },
  {
   "cell_type": "code",
   "execution_count": 41,
   "id": "a174770a-c3f5-4f11-b807-de4be94f7874",
   "metadata": {},
   "outputs": [
    {
     "name": "stdout",
     "output_type": "stream",
     "text": [
      "Using cuda device\n"
     ]
    }
   ],
   "source": [
    "device = \"cuda\" if torch.cuda.is_available() else \"cpu\"\n",
    "print(f\"Using {device} device\")"
   ]
  },
  {
   "cell_type": "code",
   "execution_count": 42,
   "id": "df2c5173-8dd7-4085-ab43-c41806cc5c7b",
   "metadata": {},
   "outputs": [],
   "source": [
    "model = SiameseNetwork()\n",
    "model = model.to(device)\n",
    "\n",
    "criterion = torch.nn.BCELoss()\n",
    "optimizer = torch.optim.Adam(model.parameters(), lr = 0.0005)"
   ]
  },
  {
   "cell_type": "code",
   "execution_count": 43,
   "id": "95b7fed9-8b0e-4d17-bdf3-007a75c4355f",
   "metadata": {},
   "outputs": [],
   "source": [
    "batch_size = 32\n",
    "\n",
    "# Create data loaders.\n",
    "# train_dataloader = DataLoader(SiameseNetworkDataset(train_data), batch_size=batch_size)\n",
    "# val_dataloader = DataLoader(SiameseNetworkDataset(val_data), batch_size=batch_size)\n",
    "test_dataloader = DataLoader(test_data, batch_size=batch_size)"
   ]
  },
  {
   "cell_type": "code",
   "execution_count": 44,
   "id": "1201371d-c4d6-4f32-8793-5116e6822d54",
   "metadata": {},
   "outputs": [
    {
     "data": {
      "text/plain": [
       "313"
      ]
     },
     "execution_count": 44,
     "metadata": {},
     "output_type": "execute_result"
    }
   ],
   "source": [
    "len(test_dataloader)"
   ]
  },
  {
   "cell_type": "code",
   "execution_count": null,
   "id": "dff9d1cf-dbc1-4a01-aa1c-9c8f22a04132",
   "metadata": {},
   "outputs": [],
   "source": [
    "device = \"cuda\" if torch.cuda.is_available() else \"cpu\"\n",
    "\n",
    "feature_model = Model()\n",
    "feature_model.load_state_dict(torch.load('results/classifier/model19.pth'))\n",
    "feature_model.model.classif = nn.Identity()\n",
    "feature_model.to(device)\n",
    "feature_model.eval()"
   ]
  },
  {
   "cell_type": "code",
   "execution_count": 49,
   "id": "3735d5f4-8920-4101-b6dd-360494b2c132",
   "metadata": {},
   "outputs": [],
   "source": [
    "train_datas = SiameseDataset(train_data)\n",
    "val_datas = SiameseDataset(val_data)\n",
    "test_datas = SiameseDataset(test_data)\n",
    "\n",
    "test_dataloader = DataLoader(test_datas, batch_size=batch_size)"
   ]
  },
  {
   "cell_type": "code",
   "execution_count": 50,
   "id": "e5e292ab-6678-49da-8229-3dbab828226f",
   "metadata": {},
   "outputs": [
    {
     "name": "stderr",
     "output_type": "stream",
     "text": [
      "  0%|          | 0/100 [00:40<?, ?it/s]\n"
     ]
    },
    {
     "ename": "KeyboardInterrupt",
     "evalue": "",
     "output_type": "error",
     "traceback": [
      "\u001b[1;31m---------------------------------------------------------------------------\u001b[0m",
      "\u001b[1;31mKeyboardInterrupt\u001b[0m                         Traceback (most recent call last)",
      "\u001b[1;32m~\\AppData\\Local\\Temp/ipykernel_19276/3906239598.py\u001b[0m in \u001b[0;36m<module>\u001b[1;34m\u001b[0m\n\u001b[0;32m     19\u001b[0m         \u001b[0moptimizer\u001b[0m\u001b[1;33m.\u001b[0m\u001b[0mstep\u001b[0m\u001b[1;33m(\u001b[0m\u001b[1;33m)\u001b[0m\u001b[1;33m\u001b[0m\u001b[1;33m\u001b[0m\u001b[0m\n\u001b[0;32m     20\u001b[0m \u001b[1;33m\u001b[0m\u001b[0m\n\u001b[1;32m---> 21\u001b[1;33m         \u001b[0mtotal_loss\u001b[0m \u001b[1;33m+=\u001b[0m \u001b[0mloss\u001b[0m\u001b[1;33m.\u001b[0m\u001b[0mitem\u001b[0m\u001b[1;33m(\u001b[0m\u001b[1;33m)\u001b[0m\u001b[1;33m\u001b[0m\u001b[1;33m\u001b[0m\u001b[0m\n\u001b[0m\u001b[0;32m     22\u001b[0m         \u001b[0mcorrect\u001b[0m \u001b[1;33m+=\u001b[0m \u001b[0mtorch\u001b[0m\u001b[1;33m.\u001b[0m\u001b[0mcount_nonzero\u001b[0m\u001b[1;33m(\u001b[0m\u001b[0mlabel\u001b[0m \u001b[1;33m==\u001b[0m \u001b[1;33m(\u001b[0m\u001b[0mprob\u001b[0m \u001b[1;33m>\u001b[0m \u001b[1;36m0.5\u001b[0m\u001b[1;33m)\u001b[0m\u001b[1;33m)\u001b[0m\u001b[1;33m.\u001b[0m\u001b[0mitem\u001b[0m\u001b[1;33m(\u001b[0m\u001b[1;33m)\u001b[0m\u001b[1;33m\u001b[0m\u001b[1;33m\u001b[0m\u001b[0m\n\u001b[0;32m     23\u001b[0m \u001b[1;33m\u001b[0m\u001b[0m\n",
      "\u001b[1;31mKeyboardInterrupt\u001b[0m: "
     ]
    }
   ],
   "source": [
    "loss_history = []\n",
    "correct_history = []\n",
    "\n",
    "# Iterate throught the epochs\n",
    "for epoch in tqdm(range(100)):\n",
    "\n",
    "    total_loss, correct = 0, 0\n",
    "    \n",
    "    # Iterate over batches\n",
    "    for i, (img0, img1, label) in enumerate(test_dataloader):\n",
    "        img0, img1, label = img0.to(device), img1.to(device), label.to(device)\n",
    "        img0, img1 = feature_model(img0), feature_model(img1)\n",
    "        \n",
    "        prob = model(img0, img1)\n",
    "        loss = criterion(prob, label)\n",
    "\n",
    "        optimizer.zero_grad()\n",
    "        loss.backward()\n",
    "        optimizer.step()\n",
    "\n",
    "        total_loss += loss.item()\n",
    "        correct += torch.count_nonzero(label == (prob > 0.5)).item()\n",
    "    \n",
    "    loss_history.append(total_loss)\n",
    "    correct_history.append(correct)"
   ]
  },
  {
   "cell_type": "code",
   "execution_count": 141,
   "id": "00edcbdb-0cf9-4438-a5d5-9692f2b1b915",
   "metadata": {},
   "outputs": [
    {
     "data": {
      "text/plain": [
       "[<matplotlib.lines.Line2D at 0x138f1f7eb50>]"
      ]
     },
     "execution_count": 141,
     "metadata": {},
     "output_type": "execute_result"
    },
    {
     "data": {
      "image/png": "[encoded data removed]",
      "text/plain": [
       "<Figure size 432x288 with 1 Axes>"
      ]
     },
     "metadata": {
      "needs_background": "light"
     },
     "output_type": "display_data"
    }
   ],
   "source": [
    "plt.plot(loss_history)"
   ]
  },
  {
   "cell_type": "code",
   "execution_count": 144,
   "id": "b976d16e-7f1d-4f58-aa2f-196fda523d52",
   "metadata": {},
   "outputs": [
    {
     "data": {
      "text/plain": [
       "[<matplotlib.lines.Line2D at 0x13af702eb50>]"
      ]
     },
     "execution_count": 144,
     "metadata": {},
     "output_type": "execute_result"
    },
    {
     "data": {
      "image/png": "[encoded data removed]",
      "text/plain": [
       "<Figure size 432x288 with 1 Axes>"
      ]
     },
     "metadata": {
      "needs_background": "light"
     },
     "output_type": "display_data"
    }
   ],
   "source": [
    "plt.plot([el / len(test_data) for el in correct_history])"
   ]
  },
  {
   "cell_type": "code",
   "execution_count": 128,
   "id": "6dc19763-d982-48e3-b697-1453a0455044",
   "metadata": {},
   "outputs": [],
   "source": [
    "model.eval()\n",
    "test_dataloader = DataLoader(test_data, batch_size=1)\n",
    "\n",
    "for img0, img1, label in test_dataloader:\n",
    "    img0, img1, label = img0.to(device), img1.to(device), label.to(device)\n",
    "    output1, output2 = model(img0, img1)\n",
    "    loss_contrastive = criterion(output1, output2, label)\n",
    "    break"
   ]
  },
  {
   "cell_type": "code",
   "execution_count": 129,
   "id": "95aa682c-79d0-4138-865f-9f300c8fd459",
   "metadata": {},
   "outputs": [
    {
     "data": {
      "text/plain": [
       "tensor(0.0752, device='cuda:0', grad_fn=<MeanBackward0>)"
      ]
     },
     "execution_count": 129,
     "metadata": {},
     "output_type": "execute_result"
    }
   ],
   "source": [
    "loss_contrastive"
   ]
  },
  {
   "cell_type": "code",
   "execution_count": 130,
   "id": "e8ddd35e-436d-4c21-8541-09ef1c095b8e",
   "metadata": {},
   "outputs": [
    {
     "data": {
      "text/plain": [
       "tensor([1.7258], device='cuda:0', grad_fn=<NormBackward1>)"
      ]
     },
     "execution_count": 130,
     "metadata": {},
     "output_type": "execute_result"
    }
   ],
   "source": [
    "F.pairwise_distance(output1, output2)"
   ]
  },
  {
   "cell_type": "code",
   "execution_count": 131,
   "id": "267ca98c-5dd3-4020-951f-d73931f4f06a",
   "metadata": {},
   "outputs": [
    {
     "data": {
      "text/plain": [
       "tensor([[1.]], device='cuda:0')"
      ]
     },
     "execution_count": 131,
     "metadata": {},
     "output_type": "execute_result"
    }
   ],
   "source": [
    "label"
   ]
  },
  {
   "cell_type": "code",
   "execution_count": null,
   "id": "64b9d83d-35d3-441c-9d3f-f45a37412183",
   "metadata": {},
   "outputs": [],
   "source": []
  }
 ],
 "metadata": {
  "kernelspec": {
   "display_name": "Python 3 (ipykernel)",
   "language": "python",
   "name": "python3"
  },
  "language_info": {
   "codemirror_mode": {
    "name": "ipython",
    "version": 3
   },
   "file_extension": ".py",
   "mimetype": "text/x-python",
   "name": "python",
   "nbconvert_exporter": "python",
   "pygments_lexer": "ipython3",
   "version": "3.9.7"
  }
 },
 "nbformat": 4,
 "nbformat_minor": 5
}
