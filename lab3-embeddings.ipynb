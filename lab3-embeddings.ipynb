{
 "cells": [
  {
   "cell_type": "code",
   "execution_count": 1,
   "id": "e7575551-bb23-483a-95ab-be8b304fe0c0",
   "metadata": {},
   "outputs": [],
   "source": [
    "import torch\n",
    "from torch import nn\n",
    "from torch.utils.data import DataLoader\n",
    "from torchvision import datasets\n",
    "from torchvision.transforms import ToTensor\n",
    "from torchvision import transforms\n",
    "import torchvision.models as models\n",
    "import matplotlib.pyplot as plt\n",
    "from tqdm import tqdm\n",
    "import timm\n",
    "import numpy as np\n",
    "from torch.utils.data import random_split\n",
    "import pickle"
   ]
  },
  {
   "cell_type": "code",
   "execution_count": 2,
   "id": "c3b63192-7ad9-4c1f-af7a-29f1b38a3ee9",
   "metadata": {},
   "outputs": [],
   "source": [
    "transform = transforms.Compose([\n",
    "    transforms.Resize(139),    # minimum image size for inception resnet\n",
    "    transforms.ToTensor(),\n",
    "])"
   ]
  },
  {
   "cell_type": "code",
   "execution_count": 3,
   "id": "6a696068-b991-4614-831f-0b7c5f38eebc",
   "metadata": {},
   "outputs": [],
   "source": [
    "# Download training data from open datasets.\n",
    "training_data = datasets.FashionMNIST(\n",
    "    root=\"data\",\n",
    "    train=True,\n",
    "    download=True,\n",
    "    transform=transform,\n",
    ")\n",
    "\n",
    "# Download test data from open datasets.\n",
    "test_data = datasets.FashionMNIST(\n",
    "    root=\"data\",\n",
    "    train=False,\n",
    "    download=True,\n",
    "    transform=transform,\n",
    ")"
   ]
  },
  {
   "cell_type": "code",
   "execution_count": 4,
   "id": "e8ae5a4d-463e-4969-8be1-53c355668644",
   "metadata": {},
   "outputs": [],
   "source": [
    "train_len = int(0.8 * len(training_data))\n",
    "val_len = len(training_data) - train_len\n",
    "torch.manual_seed(42)\n",
    "train_data, val_data = random_split(training_data, [train_len, val_len])"
   ]
  },
  {
   "cell_type": "code",
   "execution_count": 5,
   "id": "fddc6b21-9966-4559-ae42-774fdb5ffa0b",
   "metadata": {},
   "outputs": [],
   "source": [
    "class Model(nn.Module):\n",
    "    def __init__(self, in_channels=1, num_classes=10):\n",
    "        super(Model, self).__init__()\n",
    "\n",
    "        # Load a pretrained resnet model from torchvision.models in Pytorch\n",
    "        self.model = timm.create_model('inception_resnet_v2', pretrained=False)\n",
    "\n",
    "        # Change the input layer to take Grayscale image, instead of RGB images. \n",
    "        # Hence in_channels is set as 1 or 3 respectively\n",
    "        # original definition of the first layer \n",
    "        # self.conv1 = Conv2d(3, 32, kernel_size=(3, 3), stride=(2, 2), bias=False)\n",
    "        self.model.conv2d_1a.conv = nn.Conv2d(in_channels, 32, kernel_size=3, stride=2, bias=False)\n",
    "    \n",
    "        # Change the output layer to output 10 classes instead of 1000 classes\n",
    "        num_ftrs = self.model.classif.in_features\n",
    "        self.model.classif = nn.Linear(num_ftrs, num_classes)\n",
    "\n",
    "    def forward(self, x):\n",
    "        return self.model(x)"
   ]
  },
  {
   "cell_type": "code",
   "execution_count": 6,
   "id": "81ded2df-a7c0-4657-bab5-b13568796d18",
   "metadata": {},
   "outputs": [
    {
     "name": "stdout",
     "output_type": "stream",
     "text": [
      "Using cuda device\n"
     ]
    }
   ],
   "source": [
    "device = \"cuda\" if torch.cuda.is_available() else \"cpu\"\n",
    "print(f\"Using {device} device\")"
   ]
  },
  {
   "cell_type": "code",
   "execution_count": null,
   "id": "d44ae0b1-6ad3-4f17-8023-23286f987c16",
   "metadata": {},
   "outputs": [],
   "source": [
    "model = Model()\n",
    "model.load_state_dict(torch.load('results/classifier/model19.pth'))\n",
    "model.model.classif = nn.Identity()\n",
    "model.to(device)\n",
    "model.eval()"
   ]
  },
  {
   "cell_type": "code",
   "execution_count": 8,
   "id": "9c877942-8780-4d0c-8f89-a15ce90f2eb1",
   "metadata": {},
   "outputs": [],
   "source": [
    "batch_size = 64\n",
    "train_dataloader = DataLoader(train_data, batch_size=batch_size)\n",
    "val_dataloader = DataLoader(val_data, batch_size=batch_size)\n",
    "test_dataloader = DataLoader(test_data, batch_size=batch_size)"
   ]
  },
  {
   "cell_type": "code",
   "execution_count": 9,
   "id": "698d1667-65b4-4ecb-9ad6-a9480b919247",
   "metadata": {},
   "outputs": [],
   "source": [
    "def embed(dataloader):\n",
    "    res = []\n",
    "\n",
    "    for X, y in tqdm(dataloader):\n",
    "        X = X.to(device)\n",
    "        pred = model(X)\n",
    "        pred = pred.detach().cpu()\n",
    "\n",
    "        for i in range(len(y)):\n",
    "            res.append((pred[i], y[i]))\n",
    "    \n",
    "    return res"
   ]
  },
  {
   "cell_type": "code",
   "execution_count": 10,
   "id": "c422c7ab-df6a-4e64-828b-9910c37a1c62",
   "metadata": {},
   "outputs": [
    {
     "name": "stderr",
     "output_type": "stream",
     "text": [
      "100%|██████████| 750/750 [02:24<00:00,  5.18it/s]\n",
      "100%|██████████| 188/188 [00:35<00:00,  5.25it/s]\n",
      "100%|██████████| 157/157 [00:29<00:00,  5.24it/s]\n"
     ]
    }
   ],
   "source": [
    "train_res = embed(train_dataloader)\n",
    "val_res = embed(val_dataloader)\n",
    "test_res = embed(test_dataloader)"
   ]
  },
  {
   "cell_type": "code",
   "execution_count": 11,
   "id": "e35b1eaa-355e-4b3b-aa7e-b96a20f9d03f",
   "metadata": {},
   "outputs": [],
   "source": [
    "with open('train.pickle', 'wb') as f:\n",
    "    pickle.dump(train_res, f)"
   ]
  },
  {
   "cell_type": "code",
   "execution_count": 12,
   "id": "75130ad7-2930-48d1-9d33-d2cb4b3c04dc",
   "metadata": {},
   "outputs": [],
   "source": [
    "with open('val.pickle', 'wb') as f:\n",
    "    pickle.dump(val_res, f)"
   ]
  },
  {
   "cell_type": "code",
   "execution_count": 13,
   "id": "dab39cc5-a615-4ecd-bcc6-08560aa92325",
   "metadata": {},
   "outputs": [],
   "source": [
    "with open('test.pickle', 'wb') as f:\n",
    "    pickle.dump(test_res, f)"
   ]
  },
  {
   "cell_type": "code",
   "execution_count": null,
   "id": "ea02fd0a-c897-4f38-a009-4cd5ed606cd6",
   "metadata": {},
   "outputs": [],
   "source": []
  }
 ],
 "metadata": {
  "kernelspec": {
   "display_name": "Python 3 (ipykernel)",
   "language": "python",
   "name": "python3"
  },
  "language_info": {
   "codemirror_mode": {
    "name": "ipython",
    "version": 3
   },
   "file_extension": ".py",
   "mimetype": "text/x-python",
   "name": "python",
   "nbconvert_exporter": "python",
   "pygments_lexer": "ipython3",
   "version": "3.9.7"
  }
 },
 "nbformat": 4,
 "nbformat_minor": 5
}
